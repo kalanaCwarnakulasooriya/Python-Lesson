{
 "cells": [
  {
   "cell_type": "code",
   "execution_count": 2,
   "id": "1a144782",
   "metadata": {},
   "outputs": [
    {
     "name": "stdout",
     "output_type": "stream",
     "text": [
      "[10, 32, 42, 14, 24]\n",
      "<class 'list'>\n",
      "14\n",
      "2009253771776\n",
      "2009253771776\n",
      "5\n"
     ]
    }
   ],
   "source": [
    "my_list = [10,32,42,14,24]\n",
    "\n",
    "print(my_list)\n",
    "print(type(my_list))\n",
    "print(my_list[3])\n",
    "print(id(my_list))\n",
    "my_list[2] = 59 \n",
    "print(id(my_list))\n",
    "print(len(my_list))"
   ]
  },
  {
   "cell_type": "code",
   "execution_count": 3,
   "id": "a4541d71",
   "metadata": {},
   "outputs": [
    {
     "name": "stdout",
     "output_type": "stream",
     "text": [
      "[10, 'kalana', True, 3.4]\n"
     ]
    }
   ],
   "source": [
    "list = [10,\"kalana\",True,3.4]\n",
    "\n",
    "print(list)"
   ]
  },
  {
   "cell_type": "code",
   "execution_count": 4,
   "id": "cd7a136e",
   "metadata": {},
   "outputs": [
    {
     "name": "stdout",
     "output_type": "stream",
     "text": [
      "[12, 8, 9]\n",
      "[10, 12, 8, 9]\n",
      "[8, 9, 22, 20, 5, 11]\n",
      "[12, 9, 20]\n",
      "22\n"
     ]
    }
   ],
   "source": [
    "num = [10,12,8,9,22,20,5,11]\n",
    "\n",
    "print(num[1:4])\n",
    "print(num[:4])\n",
    "print(num[2:])\n",
    "print(num[1:7:2])\n",
    "print(num[-4])"
   ]
  },
  {
   "cell_type": "code",
   "execution_count": 5,
   "id": "bf1d305b",
   "metadata": {},
   "outputs": [
    {
     "name": "stdout",
     "output_type": "stream",
     "text": [
      "[]\n",
      "0\n",
      "12\n"
     ]
    }
   ],
   "source": [
    "num = [10,12,8,9,22,20,5,11]\n",
    "\n",
    "num[2:5] = [50,70,60]\n",
    "num.insert(2,77)\n",
    "num.append(66)\n",
    "num.remove(20)\n",
    "new_num = num.pop(1)\n",
    "del num[2]\n",
    "num.clear()\n",
    "\n",
    "print(num)\n",
    "print(len(num))\n",
    "print(new_num)"
   ]
  }
 ],
 "metadata": {
  "kernelspec": {
   "display_name": "Python 3",
   "language": "python",
   "name": "python3"
  },
  "language_info": {
   "codemirror_mode": {
    "name": "ipython",
    "version": 3
   },
   "file_extension": ".py",
   "mimetype": "text/x-python",
   "name": "python",
   "nbconvert_exporter": "python",
   "pygments_lexer": "ipython3",
   "version": "3.13.7"
  }
 },
 "nbformat": 4,
 "nbformat_minor": 5
}
