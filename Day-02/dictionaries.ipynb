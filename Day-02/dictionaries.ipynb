{
 "cells": [
  {
   "cell_type": "code",
   "execution_count": null,
   "id": "3654c73d",
   "metadata": {},
   "outputs": [
    {
     "name": "stdout",
     "output_type": "stream",
     "text": [
      "{'name': 'Tablet', 'price': 1000, 'quantity': 5}\n",
      "<class 'dict'>\n",
      "Tablet\n",
      "{'name': 'Laptop', 'price': 1000, 'quantity': 5}\n"
     ]
    }
   ],
   "source": [
    "dict_1 = {\n",
    "  \"name\": \"Phone\",\n",
    "  \"price\": 1000,\n",
    "  \"quantity\": 5,\n",
    "}\n",
    "\n",
    "print(dict_1)\n",
    "print(type(dict_1))\n",
    "print(dict_1[\"name\"])\n",
    "\n",
    "dict_1[\"name\"] = \"Laptop\"\n",
    "print(dict_1)"
   ]
  },
  {
   "cell_type": "code",
   "execution_count": 7,
   "id": "237cce52",
   "metadata": {},
   "outputs": [
    {
     "name": "stdout",
     "output_type": "stream",
     "text": [
      "{'name': 'Tablet', 'price': 1000, 'quantity': 5}\n",
      "<class 'dict'>\n",
      "Tablet\n",
      "{'name': 'Laptop', 'price': 1000, 'quantity': 5}\n",
      "3\n"
     ]
    }
   ],
   "source": [
    "dict_1 = {\n",
    "  \"name\": \"Phone\",\n",
    "  \"price\": 1000,\n",
    "  \"quantity\": 5,\n",
    "  \"name\": \"Tablet\" # This will overwrite the previous name\n",
    "}\n",
    "\n",
    "print(dict_1)\n",
    "print(type(dict_1))\n",
    "print(dict_1[\"name\"])\n",
    "\n",
    "dict_1[\"name\"] = \"Laptop\"\n",
    "print(dict_1)\n",
    "\n",
    "print(len(dict_1))"
   ]
  },
  {
   "cell_type": "code",
   "execution_count": null,
   "id": "d016d1c2",
   "metadata": {},
   "outputs": [
    {
     "name": "stdout",
     "output_type": "stream",
     "text": [
      "{'name': 'John', 'age': 30, 'is_married': True, 'skills': ['HTML', 'CSS', 'JS'], 'address': {'street': 'Space street', 'zipcode': '02210'}}\n"
     ]
    }
   ],
   "source": [
    "my_dict = {\n",
    "  \"name\": \"John\",\n",
    "  \"age\": 30,\n",
    "  \"is_married\": True,\n",
    "  \"skills\": [\"HTML\", \"CSS\", \"JS\"],\n",
    "  \"address\": {\n",
    "    \"street\": \"Space street\",\n",
    "    \"zipcode\": \"02210\"\n",
    "  }\n",
    "}\n",
    "\n",
    "print(my_dict)"
   ]
  },
  {
   "cell_type": "code",
   "execution_count": null,
   "id": "7664cc7f",
   "metadata": {},
   "outputs": [
    {
     "name": "stdout",
     "output_type": "stream",
     "text": [
      "50.0\n",
      "{'name': 'Phone', 'quantity': 5}\n"
     ]
    }
   ],
   "source": [
    "dict_1 = {\n",
    "  \"name\": \"Phone\",\n",
    "  # \"price\": 1000,\n",
    "  \"quantity\": 5\n",
    "}\n",
    "\n",
    "print(dict_1.get(\"price\",50.00))\n",
    "\n",
    "print(dict_1)"
   ]
  },
  {
   "cell_type": "code",
   "execution_count": null,
   "id": "2613c142",
   "metadata": {},
   "outputs": [
    {
     "name": "stdout",
     "output_type": "stream",
     "text": [
      "{'name': 'Laptop', 'price': '120', 'quantity': 5, 'expire': '2022-01-01'}\n"
     ]
    }
   ],
   "source": [
    "dict_1 = {\n",
    "  \"name\": \"Phone\",\n",
    "  \"price\": 1000,\n",
    "  \"quantity\": 5\n",
    "}\n",
    "\n",
    "dict_1.update({\"name\": \"Laptop\",\n",
    "               \"price\":\"120\",\n",
    "               \"expire\":\"2022-01-01\"\n",
    "               })\n",
    "\n",
    "value = dict_1.pop(\"price\")\n",
    "del dict_1[\"quantity\"]\n",
    "dict_1.clear()\n",
    "\n",
    "print(dict_1)"
   ]
  }
 ],
 "metadata": {
  "kernelspec": {
   "display_name": "Python 3",
   "language": "python",
   "name": "python3"
  },
  "language_info": {
   "codemirror_mode": {
    "name": "ipython",
    "version": 3
   },
   "file_extension": ".py",
   "mimetype": "text/x-python",
   "name": "python",
   "nbconvert_exporter": "python",
   "pygments_lexer": "ipython3",
   "version": "3.13.7"
  }
 },
 "nbformat": 4,
 "nbformat_minor": 5
}
