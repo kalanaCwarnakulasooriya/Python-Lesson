{
 "cells": [
  {
   "cell_type": "code",
   "execution_count": null,
   "id": "cfa5e222",
   "metadata": {},
   "outputs": [
    {
     "name": "stdout",
     "output_type": "stream",
     "text": [
      "True\n"
     ]
    }
   ],
   "source": [
    "#Quis - 01\n",
    "\n",
    "product_ids = [\"101\",\"102\",\"103\",\"104\",\"105\",\"106\",\"107\",\"103\",\"109\"]\n",
    "\n",
    "has_duplicate = len(product_ids) != len(set(product_ids))\n",
    "print(has_duplicate)"
   ]
  }
 ],
 "metadata": {
  "kernelspec": {
   "display_name": "Python 3",
   "language": "python",
   "name": "python3"
  },
  "language_info": {
   "codemirror_mode": {
    "name": "ipython",
    "version": 3
   },
   "file_extension": ".py",
   "mimetype": "text/x-python",
   "name": "python",
   "nbconvert_exporter": "python",
   "pygments_lexer": "ipython3",
   "version": "3.13.7"
  }
 },
 "nbformat": 4,
 "nbformat_minor": 5
}
