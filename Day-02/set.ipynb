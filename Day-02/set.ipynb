{
 "cells": [
  {
   "cell_type": "code",
   "execution_count": null,
   "id": "e9fd313c",
   "metadata": {},
   "outputs": [
    {
     "name": "stdout",
     "output_type": "stream",
     "text": [
      "{'Hockey', 'Cricket', 'Volleyball', 'Football'}\n",
      "<class 'set'>\n",
      "4\n",
      "{'Hockey', 'Cricket', 'Volleyball', 'Football'}\n"
     ]
    }
   ],
   "source": [
    "sports = {\"Football\", \"Cricket\", \"Hockey\",\"Volleyball\"}\n",
    "print(sports)\n",
    "print(type(sports))\n",
    "print(len(sports))\n",
    "\n",
    "print(sports)"
   ]
  },
  {
   "cell_type": "code",
   "execution_count": null,
   "id": "24ee3877",
   "metadata": {},
   "outputs": [],
   "source": [
    "sports = {\"Football\", \"Cricket\", \"Hockey\",\"Cricket\",\"Volleyball\"} #duplicate values are not allowed\n",
    "print(sports)\n",
    "print(type(sports))\n",
    "print(len(sports))\n",
    "\n",
    "print(sports)"
   ]
  },
  {
   "cell_type": "code",
   "execution_count": null,
   "id": "074fa0bc",
   "metadata": {},
   "outputs": [
    {
     "name": "stdout",
     "output_type": "stream",
     "text": [
      "{'Cricket', True, 'Hockey', 'Volleyball', 'Football'}\n",
      "{'Cricket', True, 'Basketball', 'Hockey', 'Volleyball', 'Football'}\n"
     ]
    }
   ],
   "source": [
    "sports = {\"Football\", \"Cricket\", \"Hockey\",\"Volleyball\"}\n",
    "print(sports)\n",
    "sports.add(\"Basketball\")\n",
    "\n",
    "print(sports)"
   ]
  },
  {
   "cell_type": "code",
   "execution_count": 19,
   "id": "c1dc29f0",
   "metadata": {},
   "outputs": [
    {
     "name": "stdout",
     "output_type": "stream",
     "text": [
      "{'Hockey', 'Cricket', 'Volleyball', 'Football'}\n",
      "{'Cricket', 'Volleyball', 'Baseball', 'Golf', 'Hockey', 'Football'}\n"
     ]
    }
   ],
   "source": [
    "sports = {\"Football\", \"Cricket\", \"Hockey\",\"Volleyball\"}\n",
    "print(sports)\n",
    "sports.update([\"Baseball\",\"Golf\"])\n",
    "\n",
    "print(sports)"
   ]
  },
  {
   "cell_type": "code",
   "execution_count": 20,
   "id": "6d212e4b",
   "metadata": {},
   "outputs": [
    {
     "name": "stdout",
     "output_type": "stream",
     "text": [
      "{'Hockey', 'Cricket', 'Volleyball', 'Football'}\n",
      "{'Hockey', 'Volleyball', 'Football'}\n"
     ]
    }
   ],
   "source": [
    "sports = {\"Football\", \"Cricket\", \"Hockey\",\"Volleyball\"}\n",
    "print(sports)\n",
    "sports.remove(\"Cricket\")\n",
    "\n",
    "print(sports)"
   ]
  }
 ],
 "metadata": {
  "kernelspec": {
   "display_name": "Python 3",
   "language": "python",
   "name": "python3"
  },
  "language_info": {
   "codemirror_mode": {
    "name": "ipython",
    "version": 3
   },
   "file_extension": ".py",
   "mimetype": "text/x-python",
   "name": "python",
   "nbconvert_exporter": "python",
   "pygments_lexer": "ipython3",
   "version": "3.13.7"
  }
 },
 "nbformat": 4,
 "nbformat_minor": 5
}
