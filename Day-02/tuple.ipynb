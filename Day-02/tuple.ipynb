{
 "cells": [
  {
   "cell_type": "code",
   "execution_count": null,
   "id": "b2f45196",
   "metadata": {},
   "outputs": [
    {
     "name": "stdout",
     "output_type": "stream",
     "text": [
      "Cricket\n",
      "<class 'str'>\n",
      "r\n"
     ]
    }
   ],
   "source": [
    "sports = (\"Cricket\", \"Football\", \"Hockey\", \"Cricket\")\n",
    "print(sports)\n",
    "print(type(sports))\n",
    "print(sports[1])"
   ]
  },
  {
   "cell_type": "code",
   "execution_count": 8,
   "id": "0c551e6e",
   "metadata": {},
   "outputs": [
    {
     "name": "stdout",
     "output_type": "stream",
     "text": [
      "('Cricket',)\n",
      "<class 'tuple'>\n"
     ]
    }
   ],
   "source": [
    "# sports = (\"Cricket\")\n",
    "sports = (\"Cricket\",)\n",
    "print(sports)\n",
    "print(type(sports))"
   ]
  },
  {
   "cell_type": "code",
   "execution_count": null,
   "id": "3283c525",
   "metadata": {},
   "outputs": [
    {
     "name": "stdout",
     "output_type": "stream",
     "text": [
      "('Cricket', 'Football', 'Hockey', 'Cricket', 'Volleyball')\n",
      "<class 'tuple'>\n",
      "('Football', 'Hockey', 'Cricket')\n",
      "('Cricket', 'Football', 'Hockey', 'Cricket')\n",
      "('Hockey', 'Cricket', 'Volleyball')\n",
      "('Football', 'Cricket')\n",
      "Football\n"
     ]
    }
   ],
   "source": [
    "sports = (\"Cricket\", \"Football\", \"Hockey\", \"Cricket\",\"Volleyball\")\n",
    "print(sports)\n",
    "print(type(sports))\n",
    "\n",
    "print(sports[1:4])\n",
    "print(sports[:4])\n",
    "print(sports[2:])\n",
    "print(sports[1:7:2])\n",
    "print(sports[-4])"
   ]
  },
  {
   "cell_type": "code",
   "execution_count": null,
   "id": "c81c5fee",
   "metadata": {},
   "outputs": [
    {
     "name": "stdout",
     "output_type": "stream",
     "text": [
      "['Cricket', 'Football', 'Hockey', 'Cricket', 'Volleyball']\n",
      "<class 'list'>\n",
      "['Cricket', 'Tenis', 'Hockey', 'Cricket', 'Volleyball']\n",
      "('Cricket', 'Tenis', 'Hockey', 'Cricket', 'Volleyball')\n",
      "<class 'tuple'>\n"
     ]
    }
   ],
   "source": [
    "sports = (\"Cricket\", \"Football\", \"Hockey\", \"Cricket\",\"Volleyball\")\n",
    "\n",
    "x = list(sports)\n",
    "print(x)\n",
    "print(type(x))\n",
    "\n",
    "x[1] = \"Tenis\"\n",
    "\n",
    "sports = tuple(x)\n",
    "print(sports)\n",
    "print(type(sports))"
   ]
  },
  {
   "cell_type": "code",
   "execution_count": 17,
   "id": "88be39b1",
   "metadata": {},
   "outputs": [
    {
     "name": "stdout",
     "output_type": "stream",
     "text": [
      "True\n",
      "b\n"
     ]
    }
   ],
   "source": [
    "nested_tuple = ((1,2,3),(\"a\",\"b\",\"c\"),(True,False))\n",
    "\n",
    "print(nested_tuple[2][0])\n",
    "print(nested_tuple[1][1])"
   ]
  }
 ],
 "metadata": {
  "kernelspec": {
   "display_name": "Python 3",
   "language": "python",
   "name": "python3"
  },
  "language_info": {
   "codemirror_mode": {
    "name": "ipython",
    "version": 3
   },
   "file_extension": ".py",
   "mimetype": "text/x-python",
   "name": "python",
   "nbconvert_exporter": "python",
   "pygments_lexer": "ipython3",
   "version": "3.13.7"
  }
 },
 "nbformat": 4,
 "nbformat_minor": 5
}
